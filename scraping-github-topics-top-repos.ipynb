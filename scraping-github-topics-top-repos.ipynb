{
 "cells": [
  {
   "cell_type": "markdown",
   "id": "b96df110-d7b6-4192-8657-20d35a20f904",
   "metadata": {},
   "source": [
    "# Top Repos For GitHub Topics"
   ]
  },
  {
   "cell_type": "markdown",
   "id": "d49e0f22-4c6c-4cd8-b02a-e988d74d4e53",
   "metadata": {},
   "source": [
    "### Plan"
   ]
  },
  {
   "cell_type": "markdown",
   "id": "0d3d39b8-8420-4bfb-a571-0a37589ec11e",
   "metadata": {},
   "source": [
    "- Now we need to identify the information we would like to scrape from the site.\n",
    "- For each topic we will get the topic title, topic description and topic page URL.\n",
    "- We will get the top 18 repos related to a specific topic.\n",
    "- We will grap the repo name, username, starts and finally repo URL."
   ]
  },
  {
   "cell_type": "markdown",
   "id": "4b38583b-6494-4359-9ee4-08d9072ed49a",
   "metadata": {},
   "source": [
    "## Request the web pages"
   ]
  },
  {
   "cell_type": "code",
   "execution_count": 3,
   "id": "f89a5835-ea9b-44eb-bd04-b2ac0ef93810",
   "metadata": {},
   "outputs": [],
   "source": [
    "import requests\n",
    "from bs4 import BeautifulSoup\n",
    "\n",
    "def get_page():\n",
    "    topics_url = \"https://github.com/topics\"\n",
    "    html_text = requests.get(topics_url)\n",
    "\n",
    "    if html_text.status_code != 200 : \n",
    "        print(f\"Failed to request page. Status code: {html_text.status_code}\")\n",
    "    \n",
    "    soup = BeautifulSoup(html_text.text, \"html.parser\")\n",
    "\n",
    "    return soup"
   ]
  },
  {
   "cell_type": "code",
   "execution_count": 4,
   "id": "8ce7b47c-3d2e-47a6-8c3f-fd81c335a56b",
   "metadata": {},
   "outputs": [],
   "source": [
    "doc = get_page()"
   ]
  },
  {
   "cell_type": "markdown",
   "id": "0117784f-c722-4aaa-8fc3-019cec2c5385",
   "metadata": {},
   "source": [
    "### Now it is time to parse information from the page.\n",
    "\n",
    "- We are going to start by topic titles.\n",
    "\n",
    "- We observed during our inspection of the page that the titles of the topics are enclosed within a `p` tag that has a specific class."
   ]
  },
  {
   "cell_type": "code",
   "execution_count": 5,
   "id": "2f6b535f-1a04-435d-9803-ad146615778c",
   "metadata": {},
   "outputs": [],
   "source": [
    "def get_topics_titles(doc):\n",
    "    title_class = \"f3 lh-condensed mb-0 mt-1 Link--primary\"\n",
    "    titles_tags = doc.find_all('p', title_class)\n",
    "\n",
    "    topic_titles = []\n",
    "\n",
    "    for tag in titles_tags:\n",
    "        topic_titles.append(tag.text)\n",
    "\n",
    "    return topic_titles\n"
   ]
  },
  {
   "cell_type": "code",
   "execution_count": 6,
   "id": "730a39ca-f075-4362-80d8-e17904d2b512",
   "metadata": {},
   "outputs": [],
   "source": [
    "titles = get_topics_titles(doc)"
   ]
  },
  {
   "cell_type": "code",
   "execution_count": 7,
   "id": "82154b7f-bab6-410c-a14a-ca783ad87ebf",
   "metadata": {},
   "outputs": [
    {
     "data": {
      "text/plain": [
       "30"
      ]
     },
     "execution_count": 7,
     "metadata": {},
     "output_type": "execute_result"
    }
   ],
   "source": [
    "len(titles)"
   ]
  },
  {
   "cell_type": "code",
   "execution_count": 8,
   "id": "1e27d8ed-ccdb-4a46-99a7-248d5fd73de3",
   "metadata": {},
   "outputs": [
    {
     "data": {
      "text/plain": [
       "['3D', 'Ajax', 'Algorithm', 'Amp', 'Android']"
      ]
     },
     "execution_count": 8,
     "metadata": {},
     "output_type": "execute_result"
    }
   ],
   "source": [
    "titles[:5]"
   ]
  },
  {
   "cell_type": "markdown",
   "id": "ff137ccb-0fb0-4ddb-aa87-dcde443a81b1",
   "metadata": {},
   "source": [
    "- Now we are going to do the same for topic description.\n",
    "- We observed during our inspection of the page that the titles of the topics are enclosed within a `p` tag that has a specific class."
   ]
  },
  {
   "cell_type": "code",
   "execution_count": 9,
   "id": "f604cadc-f3ac-4108-acd8-f0f8a45ef7d6",
   "metadata": {},
   "outputs": [],
   "source": [
    "def get_topics_description(doc):\n",
    "    description_class = \"f5 color-fg-muted mb-0 mt-1\"\n",
    "    description_tags = doc.find_all('p', description_class)\n",
    "\n",
    "    topic_description = []\n",
    "\n",
    "    for tag in description_tags:\n",
    "        topic_description.append(tag.text)\n",
    "\n",
    "    return topic_description"
   ]
  },
  {
   "cell_type": "code",
   "execution_count": 10,
   "id": "60992c42-1f59-4182-93e2-f4f3bb1141d4",
   "metadata": {},
   "outputs": [],
   "source": [
    "descriptions = get_topics_description(doc)"
   ]
  },
  {
   "cell_type": "code",
   "execution_count": 11,
   "id": "2e1e35e7-637c-4048-a74d-8fac79313c0d",
   "metadata": {},
   "outputs": [
    {
     "data": {
      "text/plain": [
       "['\\n          3D refers to the use of three-dimensional graphics, modeling, and animation in various industries.\\n        ',\n",
       " '\\n          Ajax is a technique for creating interactive web applications.\\n        ',\n",
       " '\\n          Algorithms are self-contained sequences that carry out a variety of tasks.\\n        ',\n",
       " '\\n          Amp is a non-blocking concurrency library for PHP.\\n        ',\n",
       " '\\n          Android is an operating system built by Google designed for mobile devices.\\n        ']"
      ]
     },
     "execution_count": 11,
     "metadata": {},
     "output_type": "execute_result"
    }
   ],
   "source": [
    "descriptions[:5]"
   ]
  },
  {
   "cell_type": "markdown",
   "id": "1715a09d-67d5-4dff-9f5f-a5ed055a90ef",
   "metadata": {},
   "source": [
    "- Now we are going to do the same for topic URLs.\n",
    "- We observed during our inspection of the page that the titles of the topics are enclosed within a `a` tag that has a specific class."
   ]
  },
  {
   "cell_type": "code",
   "execution_count": 12,
   "id": "327cf8dd-c5f6-4d0f-9c30-0ee6062ad898",
   "metadata": {},
   "outputs": [],
   "source": [
    "def get_topics_urls(doc):\n",
    "    topic_link_tags = doc.find_all('a', {'class': 'no-underline flex-1 d-flex flex-column'})\n",
    "    topic_urls = []\n",
    "    base_url = 'https://github.com'\n",
    "    for tag in topic_link_tags:\n",
    "        topic_urls.append(base_url + tag['href'])\n",
    "    return topic_urls"
   ]
  },
  {
   "cell_type": "code",
   "execution_count": 13,
   "id": "ca645356-8e74-4cac-9b5b-dc9c37f23405",
   "metadata": {},
   "outputs": [],
   "source": [
    "urls = get_topics_urls(doc)"
   ]
  },
  {
   "cell_type": "code",
   "execution_count": 14,
   "id": "75ce3a0f-c4ed-4b3c-80bb-76a06dd23bec",
   "metadata": {},
   "outputs": [
    {
     "data": {
      "text/plain": [
       "['https://github.com/topics/3d',\n",
       " 'https://github.com/topics/ajax',\n",
       " 'https://github.com/topics/algorithm',\n",
       " 'https://github.com/topics/amphp',\n",
       " 'https://github.com/topics/android']"
      ]
     },
     "execution_count": 14,
     "metadata": {},
     "output_type": "execute_result"
    }
   ],
   "source": [
    "urls[:5]"
   ]
  },
  {
   "cell_type": "markdown",
   "id": "0f125bea-470b-4787-b47a-b5844bcb0804",
   "metadata": {},
   "source": [
    "- Now Put this all together in a single function."
   ]
  },
  {
   "cell_type": "code",
   "execution_count": 15,
   "id": "36fc6eb9-cf60-443f-9497-c87b5d778dc5",
   "metadata": {},
   "outputs": [],
   "source": [
    "import pandas as pd\n",
    "\n",
    "def topics():\n",
    "    topics_url = \"https://github.com/topics\"\n",
    "    html_text = requests.get(topics_url)\n",
    "     \n",
    "    if html_text.status_code != 200:\n",
    "        print(f\"Failed to request page. Status code: {html_text.status_code}\")\n",
    "\n",
    "    soup = BeautifulSoup(html_text.text, 'html.parser')\n",
    "\n",
    "    topics = {\n",
    "        \"Title\": get_topics_titles(soup),\n",
    "        \"Description\": get_topics_description(soup),\n",
    "        \"URL\": get_topics_urls(soup)\n",
    "    }\n",
    "\n",
    "    return pd.DataFrame(topics)"
   ]
  },
  {
   "cell_type": "markdown",
   "id": "3bc744bb-999b-4cbd-9673-5311f386eb55",
   "metadata": {},
   "source": [
    "# Get top repositories from a specific topic page"
   ]
  },
  {
   "cell_type": "code",
   "execution_count": 16,
   "id": "21d6c538-0f35-47a0-b8e0-1ac813b65809",
   "metadata": {},
   "outputs": [],
   "source": [
    "def get_topic_page(topic_url):\n",
    "    topic_text = requests.get(topic_url)\n",
    "\n",
    "    if topic_text.status_code != 200:\n",
    "        print(f\"Failed to request page. Status code : {topic_text.status_code}\")\n",
    "\n",
    "    soup = BeautifulSoup(topic_text.text, 'html.parser')\n",
    "\n",
    "    return soup"
   ]
  },
  {
   "cell_type": "markdown",
   "id": "583d4cc3-b0f2-43b1-b0f8-c92f417acf5a",
   "metadata": {},
   "source": [
    "- Get the number of stars"
   ]
  },
  {
   "cell_type": "code",
   "execution_count": 18,
   "id": "5576e272-829c-4296-b749-157a3514a572",
   "metadata": {},
   "outputs": [],
   "source": [
    "def get_stars_count(stars):\n",
    "    stars = stars.strip()\n",
    "\n",
    "    if stars[-1]=='k':\n",
    "        return int(float(stars[:-1])*1000)\n",
    "    return(int(stars))"
   ]
  },
  {
   "cell_type": "markdown",
   "id": "9a08790c-37fe-4e90-9de4-89cf381d6e7a",
   "metadata": {},
   "source": [
    "- Get the other information like repo name, username..."
   ]
  },
  {
   "cell_type": "code",
   "execution_count": 19,
   "id": "d859c25f-cd83-4a34-8836-dc9f7a497b02",
   "metadata": {},
   "outputs": [],
   "source": [
    "base_url = 'https://github.com'\n",
    "def get_repo_info(h3_tag, star_tag):\n",
    "    # returns all the required info about a repository\n",
    "    a_tags = h3_tag.find_all('a')\n",
    "    username = a_tags[0].text.strip()\n",
    "    repo_name = a_tags[1].text.strip()\n",
    "    repo_url =  base_url + a_tags[1]['href']\n",
    "    stars = get_stars_count(star_tag.text.strip())\n",
    "    return username, repo_name, stars, repo_url"
   ]
  },
  {
   "cell_type": "markdown",
   "id": "857f4284-af2f-4d4f-abec-17fa8919838c",
   "metadata": {},
   "source": [
    "- Let's Work on an Example"
   ]
  },
  {
   "cell_type": "code",
   "execution_count": 20,
   "id": "8145a8fe-e5c2-4d41-987e-b4e7a0f804da",
   "metadata": {},
   "outputs": [],
   "source": [
    "topic = get_topic_page(\"https://github.com/topics/ajax\")"
   ]
  },
  {
   "cell_type": "code",
   "execution_count": 21,
   "id": "563ce9f7-a345-45b5-837b-18d52c4db018",
   "metadata": {},
   "outputs": [],
   "source": [
    "repo_tags = topic.find_all('h3', class_ = \"f3 color-fg-muted text-normal lh-condensed\")"
   ]
  },
  {
   "cell_type": "code",
   "execution_count": 22,
   "id": "91338791-9d56-4d45-919a-0db9a921f052",
   "metadata": {},
   "outputs": [],
   "source": [
    "star_tags = topic.find_all('span', { 'class': 'Counter js-social-count'})\n"
   ]
  },
  {
   "cell_type": "code",
   "execution_count": 23,
   "id": "fa5d2083-4592-41a9-b444-a33e73f140ad",
   "metadata": {},
   "outputs": [
    {
     "data": {
      "text/plain": [
       "<h3 class=\"f3 color-fg-muted text-normal lh-condensed\">\n",
       "<a class=\"Link\" data-hydro-click='{\"event_type\":\"explore.click\",\"payload\":{\"click_context\":\"REPOSITORY_CARD\",\"click_target\":\"OWNER\",\"click_visual_representation\":\"REPOSITORY_OWNER_HEADING\",\"actor_id\":null,\"record_id\":36322912,\"originating_url\":\"https://github.com/topics/ajax\",\"user_id\":null}}' data-hydro-click-hmac=\"12f49832acde3976362bbfb12cd832c71c4ab9ef369e0eeebf0b983120696b87\" data-turbo=\"false\" data-view-component=\"true\" href=\"/ljianshu\">\n",
       "            ljianshu\n",
       "</a>          /\n",
       "          <a class=\"Link text-bold wb-break-word\" data-hydro-click='{\"event_type\":\"explore.click\",\"payload\":{\"click_context\":\"REPOSITORY_CARD\",\"click_target\":\"REPOSITORY\",\"click_visual_representation\":\"REPOSITORY_NAME_HEADING\",\"actor_id\":null,\"record_id\":137582912,\"originating_url\":\"https://github.com/topics/ajax\",\"user_id\":null}}' data-hydro-click-hmac=\"ab016938047a79c8cdccd70fba114ec58aabce0f116110f58883626113c73a0c\" data-turbo=\"false\" data-view-component=\"true\" href=\"/ljianshu/Blog\">\n",
       "            Blog\n",
       "</a> </h3>"
      ]
     },
     "execution_count": 23,
     "metadata": {},
     "output_type": "execute_result"
    }
   ],
   "source": [
    "repo_tags[0]"
   ]
  },
  {
   "cell_type": "code",
   "execution_count": 24,
   "id": "c63ba9fe-92c9-434d-a2a0-3ae116db5a1a",
   "metadata": {},
   "outputs": [
    {
     "data": {
      "text/plain": [
       "<span aria-label=\"7881 users starred this repository\" class=\"Counter js-social-count\" data-plural-suffix=\"users starred this repository\" data-singular-suffix=\"user starred this repository\" data-turbo-replace=\"true\" data-view-component=\"true\" id=\"repo-stars-counter-star\" title=\"7,881\">7.9k</span>"
      ]
     },
     "execution_count": 24,
     "metadata": {},
     "output_type": "execute_result"
    }
   ],
   "source": [
    "star_tags[0]"
   ]
  },
  {
   "cell_type": "code",
   "execution_count": 25,
   "id": "3e5dddca-9020-48d9-9ac3-0613c9916966",
   "metadata": {},
   "outputs": [
    {
     "data": {
      "text/plain": [
       "('ljianshu', 'Blog', 7900, 'https://github.com/ljianshu/Blog')"
      ]
     },
     "execution_count": 25,
     "metadata": {},
     "output_type": "execute_result"
    }
   ],
   "source": [
    "get_repo_info(repo_tags[0], star_tags[0])\n"
   ]
  },
  {
   "cell_type": "markdown",
   "id": "40cbd4e2-44d2-4a29-87d8-35561dd81da0",
   "metadata": {},
   "source": [
    "#### So since the example works, we're going to sum up everthing."
   ]
  },
  {
   "cell_type": "code",
   "execution_count": 26,
   "id": "1aba3f9a-5db7-4df9-be52-2053e5442d44",
   "metadata": {},
   "outputs": [],
   "source": [
    "def get_topic_repos(topic_doc):\n",
    "    # Get the h3 tags containing repo title, repo URL and username\n",
    "    repo_tags = topic_doc.find_all('h3',{'class':'f3 color-fg-muted text-normal lh-condensed'})\n",
    "\n",
    "    # Get star tags\n",
    "    star_tags=topic_doc.find_all('span',{'class':'Counter js-social-count'})\n",
    "    \n",
    "    topic_repos_dict = { 'username': [], 'repo_name': [], 'stars': [],'repo_url': []}\n",
    "\n",
    "    # Get repo info\n",
    "    for i in range(len(repo_tags)):\n",
    "        repo_info = get_repo_info(repo_tags[i], star_tags[i])\n",
    "        topic_repos_dict['username'].append(repo_info[0])\n",
    "        topic_repos_dict['repo_name'].append(repo_info[1])\n",
    "        topic_repos_dict['stars'].append(repo_info[2])\n",
    "        topic_repos_dict['repo_url'].append(repo_info[3])\n",
    "        \n",
    "    return pd.DataFrame(topic_repos_dict)"
   ]
  },
  {
   "cell_type": "code",
   "execution_count": 27,
   "id": "49356ed1-753d-4698-b213-ee58b229adbb",
   "metadata": {},
   "outputs": [],
   "source": [
    "import os\n",
    "\n",
    "def scrape_topic(topic_url, path):\n",
    "    if os.path.exists(path):\n",
    "        print(\"The file {} already exists. Skipping...\".format(path))\n",
    "        return\n",
    "    topic_df = get_topic_repos(get_topic_page(topic_url))\n",
    "    topic_df.to_csv(path, index=None)"
   ]
  },
  {
   "cell_type": "code",
   "execution_count": 28,
   "id": "39f6c0a7-17c2-4212-8c0f-bfb5a172aa9d",
   "metadata": {},
   "outputs": [],
   "source": [
    "def scrape_topics_repos():\n",
    "    print('Scraping list of topics')\n",
    "    topics_df = topics()\n",
    "    \n",
    "    os.makedirs('data', exist_ok=True)\n",
    "    for index, row in topics_df.iterrows():\n",
    "        print('Scraping top repositories for \"{}\"'.format(row['Title']))\n",
    "        scrape_topic(row['URL'], 'data/{}.csv'.format(row['Title']))\n"
   ]
  },
  {
   "cell_type": "code",
   "execution_count": 29,
   "id": "1b684014-895a-4be5-b76d-f2f14fd2bb38",
   "metadata": {},
   "outputs": [
    {
     "name": "stdout",
     "output_type": "stream",
     "text": [
      "Scraping list of topics\n",
      "Scraping top repositories for \"3D\"\n",
      "Scraping top repositories for \"Ajax\"\n",
      "Scraping top repositories for \"Algorithm\"\n",
      "Scraping top repositories for \"Amp\"\n",
      "Scraping top repositories for \"Android\"\n",
      "Scraping top repositories for \"Angular\"\n",
      "Scraping top repositories for \"Ansible\"\n",
      "Scraping top repositories for \"API\"\n",
      "Scraping top repositories for \"Arduino\"\n",
      "Scraping top repositories for \"ASP.NET\"\n",
      "Scraping top repositories for \"Awesome Lists\"\n",
      "Scraping top repositories for \"Amazon Web Services\"\n",
      "Scraping top repositories for \"Azure\"\n",
      "Scraping top repositories for \"Babel\"\n",
      "Scraping top repositories for \"Bash\"\n",
      "Scraping top repositories for \"Bitcoin\"\n",
      "Scraping top repositories for \"Bootstrap\"\n",
      "Scraping top repositories for \"Bot\"\n",
      "Scraping top repositories for \"C\"\n",
      "Scraping top repositories for \"Chrome\"\n",
      "Scraping top repositories for \"Chrome extension\"\n",
      "Scraping top repositories for \"Command-line interface\"\n",
      "Scraping top repositories for \"Clojure\"\n",
      "Scraping top repositories for \"Code quality\"\n",
      "Scraping top repositories for \"Code review\"\n",
      "Scraping top repositories for \"Compiler\"\n",
      "Scraping top repositories for \"Continuous integration\"\n",
      "Scraping top repositories for \"C++\"\n",
      "Scraping top repositories for \"Cryptocurrency\"\n",
      "Scraping top repositories for \"Crystal\"\n"
     ]
    }
   ],
   "source": [
    "scrape_topics_repos()"
   ]
  },
  {
   "cell_type": "code",
   "execution_count": null,
   "id": "c1d63647-0b88-4556-9339-c346f2419646",
   "metadata": {},
   "outputs": [],
   "source": []
  }
 ],
 "metadata": {
  "kernelspec": {
   "display_name": "Python 3 (ipykernel)",
   "language": "python",
   "name": "python3"
  },
  "language_info": {
   "codemirror_mode": {
    "name": "ipython",
    "version": 3
   },
   "file_extension": ".py",
   "mimetype": "text/x-python",
   "name": "python",
   "nbconvert_exporter": "python",
   "pygments_lexer": "ipython3",
   "version": "3.12.4"
  }
 },
 "nbformat": 4,
 "nbformat_minor": 5
}
